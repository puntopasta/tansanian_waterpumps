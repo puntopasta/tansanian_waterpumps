{
 "cells": [
  {
   "cell_type": "markdown",
   "metadata": {},
   "source": [
    "# construction year experimentation\n",
    "In this notebook we try a number of solutions for dealing with the missing age values. This way we select a good  solution. We only use the TRAINING SET here :)"
   ]
  },
  {
   "cell_type": "code",
   "execution_count": 45,
   "metadata": {
    "collapsed": false
   },
   "outputs": [],
   "source": [
    "import sys\n",
    "sys.path.append('/Users/mustafa/workspace/projects/tansanian_waterpumps/')\n",
    "import data_loading\n",
    "import numpy as np\n",
    "from sklearn.model_selection import train_test_split\n",
    "from sklearn.metrics import cohen_kappa_score, accuracy_score, confusion_matrix\n",
    "from sklearn.linear_model import LogisticRegression\n",
    "from collections import Counter"
   ]
  },
  {
   "cell_type": "code",
   "execution_count": 2,
   "metadata": {
    "collapsed": false
   },
   "outputs": [],
   "source": [
    "data = data_loading.load_dataset(data_folder='../data')\n",
    "data = data_loading.data_cleaning(data)\n",
    "data = data_loading.numeric_groundtruth(data)"
   ]
  },
  {
   "cell_type": "markdown",
   "metadata": {},
   "source": [
    "# Let's try a model fit leaving in the missing construction year entries"
   ]
  },
  {
   "cell_type": "code",
   "execution_count": 38,
   "metadata": {
    "collapsed": false
   },
   "outputs": [
    {
     "name": "stdout",
     "output_type": "stream",
     "text": [
      "Label distribution in training set:  Counter({0: 23519, 2: 16750, 1: 2922})\n",
      "Label distribution in testing set:  Counter({0: 7870, 2: 5518, 1: 1009})\n"
     ]
    },
    {
     "name": "stderr",
     "output_type": "stream",
     "text": [
      "/Users/mustafa/anaconda/lib/python3.5/site-packages/sklearn/utils/validation.py:526: DataConversionWarning: A column-vector y was passed when a 1d array was expected. Please change the shape of y to (n_samples, ), for example using ravel().\n",
      "  y = column_or_1d(y, warn=True)\n"
     ]
    },
    {
     "name": "stdout",
     "output_type": "stream",
     "text": [
      "[[16265  7254     0]\n",
      " [ 1877  1045     0]\n",
      " [10907  5843     0]]\n",
      "Accuracy score:  0.40077793984857957\n",
      "Cohen kappa:  0.020255169832355646\n"
     ]
    }
   ],
   "source": [
    "train_df, _ = data_loading.split_data(data)\n",
    "x = np.expand_dims(train_df.construction_year.as_matrix(),1)\n",
    "y = np.expand_dims(train_df.status_group.as_matrix(),1)\n",
    "\n",
    "lr = LogisticRegression(class_weight='balanced', multi_class='multinomial', solver='newton-cg')\n",
    "lr.fit(x,y)\n",
    "\n",
    "pred = lr.predict(x)\n",
    "\n",
    "print(confusion_matrix(y,pred))\n",
    "print('Accuracy score: ', accuracy_score(y,pred))\n",
    "print('Cohen kappa: ', cohen_kappa_score(y,pred))"
   ]
  },
  {
   "cell_type": "markdown",
   "metadata": {},
   "source": [
    "# Let's try again after removing the missing construction year entries"
   ]
  },
  {
   "cell_type": "code",
   "execution_count": 39,
   "metadata": {
    "collapsed": false
   },
   "outputs": [
    {
     "name": "stdout",
     "output_type": "stream",
     "text": [
      "Label distribution in training set:  Counter({0: 23519, 2: 16750, 1: 2922})\n",
      "Label distribution in testing set:  Counter({0: 7870, 2: 5518, 1: 1009})\n"
     ]
    },
    {
     "name": "stderr",
     "output_type": "stream",
     "text": [
      "/Users/mustafa/anaconda/lib/python3.5/site-packages/sklearn/utils/validation.py:526: DataConversionWarning: A column-vector y was passed when a 1d array was expected. Please change the shape of y to (n_samples, ), for example using ravel().\n",
      "  y = column_or_1d(y, warn=True)\n",
      "/Users/mustafa/anaconda/lib/python3.5/site-packages/scipy/optimize/linesearch.py:414: LineSearchWarning: The line search algorithm did not converge\n",
      "  warn('The line search algorithm did not converge', LineSearchWarning)\n",
      "/Users/mustafa/anaconda/lib/python3.5/site-packages/scipy/optimize/linesearch.py:285: LineSearchWarning: The line search algorithm did not converge\n",
      "  warn('The line search algorithm did not converge', LineSearchWarning)\n"
     ]
    },
    {
     "name": "stdout",
     "output_type": "stream",
     "text": [
      "[[11215   964  4086]\n",
      " [  996   150   731]\n",
      " [ 4615   763  5529]]\n",
      "Accuracy score:  0.5815690729457124\n",
      "Cohen kappa:  0.22192903671587927\n"
     ]
    },
    {
     "name": "stderr",
     "output_type": "stream",
     "text": [
      "/Users/mustafa/anaconda/lib/python3.5/site-packages/sklearn/utils/optimize.py:195: UserWarning: Line Search failed\n",
      "  warnings.warn('Line Search failed')\n"
     ]
    }
   ],
   "source": [
    "train_df, _ = data_loading.split_data(data)\n",
    "train_df = train_df[train_df.construction_year != 0]\n",
    "x = np.expand_dims(train_df.construction_year.as_matrix(),1)\n",
    "y = np.expand_dims(train_df.status_group.as_matrix(),1)\n",
    "\n",
    "lr = LogisticRegression(class_weight='balanced', multi_class='multinomial', solver='newton-cg')\n",
    "lr.fit(x,y)\n",
    "\n",
    "pred = lr.predict(x)\n",
    "\n",
    "print(confusion_matrix(y,pred))\n",
    "print('Accuracy score: ', accuracy_score(y,pred))\n",
    "print('Cohen kappa: ', cohen_kappa_score(y,pred))"
   ]
  },
  {
   "cell_type": "markdown",
   "metadata": {},
   "source": [
    "### Clearly a linear model gets confused when construction years are 0.  However we cannot just drop them since these entries make up a significant portion of the data. Let's try to fill in the mean year (to minimise the effect of this feature when its value is missing)"
   ]
  },
  {
   "cell_type": "code",
   "execution_count": 43,
   "metadata": {
    "collapsed": false
   },
   "outputs": [
    {
     "name": "stdout",
     "output_type": "stream",
     "text": [
      "Label distribution in training set:  Counter({0: 23519, 2: 16750, 1: 2922})\n",
      "Label distribution in testing set:  Counter({0: 7870, 2: 5518, 1: 1009})\n"
     ]
    },
    {
     "name": "stderr",
     "output_type": "stream",
     "text": [
      "/Users/mustafa/anaconda/lib/python3.5/site-packages/ipykernel/__main__.py:3: SettingWithCopyWarning: \n",
      "A value is trying to be set on a copy of a slice from a DataFrame.\n",
      "Try using .loc[row_indexer,col_indexer] = value instead\n",
      "\n",
      "See the caveats in the documentation: http://pandas.pydata.org/pandas-docs/stable/indexing.html#indexing-view-versus-copy\n",
      "  app.launch_new_instance()\n",
      "/Users/mustafa/anaconda/lib/python3.5/site-packages/pandas/core/indexing.py:476: SettingWithCopyWarning: \n",
      "A value is trying to be set on a copy of a slice from a DataFrame.\n",
      "Try using .loc[row_indexer,col_indexer] = value instead\n",
      "\n",
      "See the caveats in the documentation: http://pandas.pydata.org/pandas-docs/stable/indexing.html#indexing-view-versus-copy\n",
      "  self.obj[item] = s\n",
      "/Users/mustafa/anaconda/lib/python3.5/site-packages/sklearn/utils/validation.py:526: DataConversionWarning: A column-vector y was passed when a 1d array was expected. Please change the shape of y to (n_samples, ), for example using ravel().\n",
      "  y = column_or_1d(y, warn=True)\n",
      "/Users/mustafa/anaconda/lib/python3.5/site-packages/scipy/optimize/linesearch.py:414: LineSearchWarning: The line search algorithm did not converge\n",
      "  warn('The line search algorithm did not converge', LineSearchWarning)\n",
      "/Users/mustafa/anaconda/lib/python3.5/site-packages/scipy/optimize/linesearch.py:285: LineSearchWarning: The line search algorithm did not converge\n",
      "  warn('The line search algorithm did not converge', LineSearchWarning)\n"
     ]
    },
    {
     "name": "stdout",
     "output_type": "stream",
     "text": [
      "[[10825   447  4086   907]\n",
      " [  934    60   731   152]\n",
      " [ 4363   274  5529   741]\n",
      " [    0     0     0 14142]]\n",
      "Accuracy score:  0.707462202773726\n",
      "Cohen kappa:  0.5680820104572604\n"
     ]
    },
    {
     "name": "stderr",
     "output_type": "stream",
     "text": [
      "/Users/mustafa/anaconda/lib/python3.5/site-packages/sklearn/utils/optimize.py:195: UserWarning: Line Search failed\n",
      "  warnings.warn('Line Search failed')\n"
     ]
    }
   ],
   "source": [
    "train_df, _ = data_loading.split_data(data)\n",
    "mean_year = np.int(train_df[train_df.construction_year != 0].construction_year.mean())\n",
    "train_df[train_df.construction_year == 0] = mean_year\n",
    "x = np.expand_dims(train_df.construction_year.as_matrix(),1)\n",
    "y = np.expand_dims(train_df.status_group.as_matrix(),1)\n",
    "\n",
    "lr = LogisticRegression(class_weight='balanced', multi_class='multinomial', solver='newton-cg')\n",
    "lr.fit(x,y)\n",
    "pred = lr.predict(x)\n",
    "print(confusion_matrix(y.squeeze(),pred))\n",
    "print('Accuracy score: ', accuracy_score(y,pred))\n",
    "print('Cohen kappa: ', cohen_kappa_score(y,pred))"
   ]
  },
  {
   "cell_type": "markdown",
   "metadata": {},
   "source": [
    "### Better! What about using the minimum value (assuming that when construction year is missing, that the pumps are likely to be older)"
   ]
  },
  {
   "cell_type": "code",
   "execution_count": 44,
   "metadata": {
    "collapsed": false
   },
   "outputs": [
    {
     "name": "stdout",
     "output_type": "stream",
     "text": [
      "Label distribution in training set:  Counter({0: 23519, 2: 16750, 1: 2922})\n",
      "Label distribution in testing set:  Counter({0: 7870, 2: 5518, 1: 1009})\n"
     ]
    },
    {
     "name": "stderr",
     "output_type": "stream",
     "text": [
      "/Users/mustafa/anaconda/lib/python3.5/site-packages/ipykernel/__main__.py:3: SettingWithCopyWarning: \n",
      "A value is trying to be set on a copy of a slice from a DataFrame.\n",
      "Try using .loc[row_indexer,col_indexer] = value instead\n",
      "\n",
      "See the caveats in the documentation: http://pandas.pydata.org/pandas-docs/stable/indexing.html#indexing-view-versus-copy\n",
      "  app.launch_new_instance()\n",
      "/Users/mustafa/anaconda/lib/python3.5/site-packages/pandas/core/indexing.py:476: SettingWithCopyWarning: \n",
      "A value is trying to be set on a copy of a slice from a DataFrame.\n",
      "Try using .loc[row_indexer,col_indexer] = value instead\n",
      "\n",
      "See the caveats in the documentation: http://pandas.pydata.org/pandas-docs/stable/indexing.html#indexing-view-versus-copy\n",
      "  self.obj[item] = s\n",
      "/Users/mustafa/anaconda/lib/python3.5/site-packages/sklearn/utils/validation.py:526: DataConversionWarning: A column-vector y was passed when a 1d array was expected. Please change the shape of y to (n_samples, ), for example using ravel().\n",
      "  y = column_or_1d(y, warn=True)\n",
      "/Users/mustafa/anaconda/lib/python3.5/site-packages/scipy/optimize/linesearch.py:414: LineSearchWarning: The line search algorithm did not converge\n",
      "  warn('The line search algorithm did not converge', LineSearchWarning)\n",
      "/Users/mustafa/anaconda/lib/python3.5/site-packages/scipy/optimize/linesearch.py:285: LineSearchWarning: The line search algorithm did not converge\n",
      "  warn('The line search algorithm did not converge', LineSearchWarning)\n"
     ]
    },
    {
     "name": "stdout",
     "output_type": "stream",
     "text": [
      "[[11215  1259  3671   120]\n",
      " [  996   186   661    34]\n",
      " [ 4615  1004  5030   258]\n",
      " [    0     0     0 14142]]\n",
      "Accuracy score:  0.7078558032923525\n",
      "Cohen kappa:  0.5739838700222333\n"
     ]
    },
    {
     "name": "stderr",
     "output_type": "stream",
     "text": [
      "/Users/mustafa/anaconda/lib/python3.5/site-packages/sklearn/utils/optimize.py:203: ConvergenceWarning: newton-cg failed to converge. Increase the number of iterations.\n",
      "  \"number of iterations.\", ConvergenceWarning)\n"
     ]
    }
   ],
   "source": [
    "train_df, _ = data_loading.split_data(data)\n",
    "min_year = np.int(train_df[train_df.construction_year != 0].construction_year.min())\n",
    "train_df[train_df.construction_year == 0] = min_year\n",
    "x = np.expand_dims(train_df.construction_year.as_matrix(),1)\n",
    "y = np.expand_dims(train_df.status_group.as_matrix(),1)\n",
    "\n",
    "lr = LogisticRegression(class_weight='balanced', multi_class='multinomial', solver='newton-cg')\n",
    "lr.fit(x,y)\n",
    "pred = lr.predict(x)\n",
    "print(confusion_matrix(y.squeeze(),pred))\n",
    "print('Accuracy score: ', accuracy_score(y,pred))\n",
    "print('Cohen kappa: ', cohen_kappa_score(y,pred))"
   ]
  },
  {
   "cell_type": "markdown",
   "metadata": {},
   "source": [
    "### Seems like there is only a marginal improvement. Given that this solution actually adds another assumption (that might not hold in the test set) we are better off using the less assumptive solution in which the missing construction year is set to the mean year."
   ]
  },
  {
   "cell_type": "code",
   "execution_count": null,
   "metadata": {
    "collapsed": true
   },
   "outputs": [],
   "source": []
  }
 ],
 "metadata": {
  "kernelspec": {
   "display_name": "bdr",
   "language": "python",
   "name": "bdr"
  },
  "language_info": {
   "codemirror_mode": {
    "name": "ipython",
    "version": 3
   },
   "file_extension": ".py",
   "mimetype": "text/x-python",
   "name": "python",
   "nbconvert_exporter": "python",
   "pygments_lexer": "ipython3",
   "version": "3.5.1"
  }
 },
 "nbformat": 4,
 "nbformat_minor": 0
}
