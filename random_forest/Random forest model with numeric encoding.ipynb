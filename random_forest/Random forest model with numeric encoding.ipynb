{
 "cells": [
  {
   "cell_type": "markdown",
   "metadata": {},
   "source": [
    "# Random Forest Model\n",
    "* In this notebook we take the pre-selected features from exploratory analysis and do some further feature optimisation through recursive feature elimintation.\n",
    "\n",
    "* We then proceed to train a random forest model with the selected features and evaluate its performance on the test set.\n",
    "\n",
    "* In addition, we also try out some minority class compensation techniques (proportional class weighting as well as minority over-sampling)."
   ]
  },
  {
   "cell_type": "code",
   "execution_count": 18,
   "metadata": {
    "collapsed": true
   },
   "outputs": [],
   "source": [
    "import sys\n",
    "sys.path.append('..')\n",
    "import warnings\n",
    "\n",
    "from sklearn.feature_selection import RFE\n",
    "from sklearn.model_selection import KFold\n",
    "from sklearn.metrics import make_scorer\n",
    "from sklearn.ensemble import RandomForestClassifier, GradientBoostingClassifier\n",
    "warnings.filterwarnings('ignore')\n",
    "import matplotlib.pyplot as plt\n",
    "%matplotlib notebook\n",
    "plt.style.use('ggplot')"
   ]
  },
  {
   "cell_type": "code",
   "execution_count": 19,
   "metadata": {
    "collapsed": true
   },
   "outputs": [],
   "source": [
    "def eval_model(test_x,test_y, rfc):\n",
    "    pred = rfc.predict(test_x)\n",
    "    from sklearn.metrics import confusion_matrix, accuracy_score, cohen_kappa_score\n",
    "\n",
    "    print(confusion_matrix(test_y,pred))\n",
    "    print('Acc: ',accuracy_score(test_y,pred))\n",
    "    print('Kappa: ',cohen_kappa_score(test_y,pred))"
   ]
  },
  {
   "cell_type": "code",
   "execution_count": 20,
   "metadata": {
    "collapsed": true
   },
   "outputs": [],
   "source": [
    "selected_features = [\n",
    "    'gps_height',\n",
    "    'latitude',\n",
    "    'longitude',\n",
    "    'population',\n",
    "    'amount_tsh',\n",
    "    'age_at_measurement',\n",
    "    'payment_type',\n",
    "    'management_group',\n",
    "    'quality_group',\n",
    "    'region',\n",
    "    'basin',\n",
    "    'extraction_type_class',\n",
    "    'quantity_group',\n",
    "    'waterpoint_type_group',\n",
    "    'source_type',\n",
    "    'source_class'\n",
    "]"
   ]
  },
  {
   "cell_type": "code",
   "execution_count": 21,
   "metadata": {},
   "outputs": [
    {
     "name": "stdout",
     "output_type": "stream",
     "text": [
      "Label distribution in training set:  Counter({0: 23519, 2: 16750, 1: 2922})\n",
      "Label distribution in testing set:  Counter({0: 7870, 2: 5518, 1: 1009})\n"
     ]
    }
   ],
   "source": [
    "from data_loading import *\n",
    "data = load_dataset('../data')\n",
    "train_df, test_df = (data.pipe(data_cleaning)\n",
    "            .pipe(numeric_groundtruth)\n",
    "            .pipe(construction_year_feature)\n",
    "            .pipe(feature_tsh_per_capita)\n",
    "            .pipe(categorical_encoding)\n",
    "            .pipe(feature_removal, selected_features=selected_features)\n",
    "            .pipe(split_data, test_size=0.25))"
   ]
  },
  {
   "cell_type": "code",
   "execution_count": 22,
   "metadata": {
    "collapsed": true,
    "scrolled": true
   },
   "outputs": [],
   "source": [
    "train_x = train_df[selected_features]\n",
    "test_x = test_df[selected_features]\n",
    "\n",
    "train_y = train_df.status_group.as_matrix()\n",
    "test_y = test_df.status_group.as_matrix()"
   ]
  },
  {
   "cell_type": "markdown",
   "metadata": {},
   "source": [
    "# Use random forests to optimise the feature set using cross-validated recursive feature elimination."
   ]
  },
  {
   "cell_type": "code",
   "execution_count": 23,
   "metadata": {},
   "outputs": [
    {
     "name": "stdout",
     "output_type": "stream",
     "text": [
      "Optimal number of features : 8\n"
     ]
    }
   ],
   "source": [
    "algo = RandomForestClassifier(n_estimators=100)\n",
    "selector = RFE(estimator=algo)\n",
    "\n",
    "selector.fit(train_x, train_y)\n",
    "\n",
    "print(\"Optimal number of features : %d\" % selector.n_features_)"
   ]
  },
  {
   "cell_type": "code",
   "execution_count": 24,
   "metadata": {},
   "outputs": [
    {
     "name": "stdout",
     "output_type": "stream",
     "text": [
      "Discarded features by feature selector: \n",
      "['amount_tsh' 'payment_type' 'management_group' 'quality_group' 'region'\n",
      " 'basin' 'source_type' 'source_class']\n"
     ]
    }
   ],
   "source": [
    "import numpy as np\n",
    "print('Discarded features by feature selector: ')\n",
    "print(np.array(selected_features)[[not s for s in selector.get_support()]])\n",
    "train_x = train_x[train_x.columns[selector.get_support()]]\n",
    "test_x = test_x[test_x.columns[selector.get_support()]]"
   ]
  },
  {
   "cell_type": "markdown",
   "metadata": {},
   "source": [
    "# Fit a large random forest classifier on selected features and evaluate it"
   ]
  },
  {
   "cell_type": "code",
   "execution_count": 25,
   "metadata": {},
   "outputs": [
    {
     "name": "stdout",
     "output_type": "stream",
     "text": [
      "[[6881  232  757]\n",
      " [ 510  305  194]\n",
      " [1131  111 4276]]\n",
      "Acc:  0.7961380843231228\n",
      "Kappa:  0.6183221279712713\n"
     ]
    }
   ],
   "source": [
    "np.random.seed(42)\n",
    "rfc = RandomForestClassifier(n_estimators=1000, n_jobs=4)\n",
    "rfc.fit(train_x, train_y)\n",
    "eval_model(test_x,test_y, rfc)"
   ]
  },
  {
   "cell_type": "markdown",
   "metadata": {},
   "source": [
    "# Try balancing for minority class by automatically adjusting  class weights"
   ]
  },
  {
   "cell_type": "code",
   "execution_count": 26,
   "metadata": {},
   "outputs": [
    {
     "name": "stdout",
     "output_type": "stream",
     "text": [
      "[[6907  216  747]\n",
      " [ 534  295  180]\n",
      " [1167  102 4249]]\n",
      "Acc:  0.7953740362575537\n",
      "Kappa:  0.6156415025337256\n"
     ]
    }
   ],
   "source": [
    "np.random.seed(42)\n",
    "rfc = RandomForestClassifier(n_estimators=1000, n_jobs=4,class_weight='balanced_subsample')\n",
    "rfc.fit(train_x, train_y)\n",
    "eval_model(test_x,test_y, rfc)"
   ]
  },
  {
   "cell_type": "markdown",
   "metadata": {},
   "source": [
    "# Try some minority class over-sampling to compensate for class imbalance issues"
   ]
  },
  {
   "cell_type": "code",
   "execution_count": 27,
   "metadata": {},
   "outputs": [
    {
     "name": "stdout",
     "output_type": "stream",
     "text": [
      "[[6382  626  862]\n",
      " [ 381  450  178]\n",
      " [ 968  274 4276]]\n",
      "Acc:  0.7715496283948045\n",
      "Kappa:  0.5908600300785932\n"
     ]
    }
   ],
   "source": [
    "from imblearn.over_sampling import SMOTE\n",
    "smote = SMOTE(n_jobs=4, k_neighbors=5)\n",
    "train_x_smote, train_y_smote = smote.fit_sample(train_x,train_y)\n",
    "\n",
    "np.random.seed(42)\n",
    "rfc = RandomForestClassifier(n_estimators=1000, n_jobs=4)\n",
    "\n",
    "rfc.fit(train_x_smote, train_y_smote)\n",
    "eval_model(test_x,test_y, rfc)"
   ]
  },
  {
   "cell_type": "markdown",
   "metadata": {
    "collapsed": true
   },
   "source": [
    "# Undersampling"
   ]
  },
  {
   "cell_type": "code",
   "execution_count": 28,
   "metadata": {},
   "outputs": [
    {
     "name": "stdout",
     "output_type": "stream",
     "text": [
      "[[2011 4766 1093]\n",
      " [  60  892   57]\n",
      " [ 336 2715 2467]]\n",
      "Acc:  0.3729943738278808\n",
      "Kappa:  0.18735099287061874\n"
     ]
    }
   ],
   "source": [
    "from imblearn.under_sampling import ClusterCentroids\n",
    "cc = ClusterCentroids(random_state=0)\n",
    "X_resampled, y_resampled = cc.fit_sample(train_x, train_y)\n",
    "\n",
    "np.random.seed(42)\n",
    "rfc = RandomForestClassifier(n_estimators=1000, n_jobs=4)\n",
    "\n",
    "rfc.fit(X_resampled, y_resampled)\n",
    "eval_model(test_x,test_y, rfc)"
   ]
  },
  {
   "cell_type": "code",
   "execution_count": null,
   "metadata": {
    "collapsed": true
   },
   "outputs": [],
   "source": []
  }
 ],
 "metadata": {
  "kernelspec": {
   "display_name": "Python 3",
   "language": "python",
   "name": "python3"
  },
  "language_info": {
   "codemirror_mode": {
    "name": "ipython",
    "version": 3
   },
   "file_extension": ".py",
   "mimetype": "text/x-python",
   "name": "python",
   "nbconvert_exporter": "python",
   "pygments_lexer": "ipython3",
   "version": "3.6.3"
  }
 },
 "nbformat": 4,
 "nbformat_minor": 1
}
